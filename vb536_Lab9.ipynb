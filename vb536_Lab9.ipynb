{
  "nbformat": 4,
  "nbformat_minor": 0,
  "metadata": {
    "colab": {
      "provenance": []
    },
    "kernelspec": {
      "name": "python3",
      "display_name": "Python 3"
    },
    "language_info": {
      "name": "python"
    }
  },
  "cells": [
    {
      "cell_type": "code",
      "execution_count": 1,
      "metadata": {
        "id": "DmQvHcCb4Hm_"
      },
      "outputs": [],
      "source": [
        "import polars as pl"
      ]
    },
    {
      "cell_type": "code",
      "source": [
        "trips = pl.read_csv(\"https://raw.githubusercontent.com/philhetzel/opan5510-class9/refs/heads/main/data/bike_trips.csv\", null_values='NA')\n",
        "weather = pl.read_csv(\"https://raw.githubusercontent.com/philhetzel/opan5510-class9/refs/heads/main/data/bike_weather.csv\", null_values=['NA',''])\n",
        "\n",
        "trips = trips.with_columns(pl.col(\"date\").str.strptime(pl.Date, \"%Y-%m-%d\").alias(\"date\")) # ensure date column is typed correctly\n",
        "weather = weather.with_columns(pl.col(\"date\").str.strptime(pl.Date, \"%Y-%m-%d\").alias(\"date\")) # ensure date column is typed correctly\n",
        "print(trips.height)\n",
        "trips.head()\n",
        "\n",
        "print(weather.height)\n",
        "weather.head()"
      ],
      "metadata": {
        "colab": {
          "base_uri": "https://localhost:8080/",
          "height": 397
        },
        "id": "1EOAGUS94LPg",
        "outputId": "ed9ae578-625f-41f8-8214-9d8560345f63"
      },
      "execution_count": 2,
      "outputs": [
        {
          "output_type": "stream",
          "name": "stdout",
          "text": [
            "78704\n",
            "733\n"
          ]
        },
        {
          "output_type": "execute_result",
          "data": {
            "text/plain": [
              "shape: (5, 24)\n",
              "┌────────────┬────────────┬────────────┬───────────┬───┬───────────┬────────┬───────────┬──────────┐\n",
              "│ date       ┆ max_temper ┆ mean_tempe ┆ min_tempe ┆ … ┆ cloud_cov ┆ events ┆ wind_dir_ ┆ zip_code │\n",
              "│ ---        ┆ ature_f    ┆ rature_f   ┆ rature_f  ┆   ┆ er        ┆ ---    ┆ degrees   ┆ ---      │\n",
              "│ date       ┆ ---        ┆ ---        ┆ ---       ┆   ┆ ---       ┆ str    ┆ ---       ┆ i64      │\n",
              "│            ┆ i64        ┆ i64        ┆ i64       ┆   ┆ i64       ┆        ┆ i64       ┆          │\n",
              "╞════════════╪════════════╪════════════╪═══════════╪═══╪═══════════╪════════╪═══════════╪══════════╡\n",
              "│ 2013-08-29 ┆ 74         ┆ 68         ┆ 61        ┆ … ┆ 4         ┆ null   ┆ 286       ┆ 94107    │\n",
              "│ 2013-08-30 ┆ 78         ┆ 69         ┆ 60        ┆ … ┆ 2         ┆ null   ┆ 291       ┆ 94107    │\n",
              "│ 2013-08-31 ┆ 71         ┆ 64         ┆ 57        ┆ … ┆ 4         ┆ null   ┆ 284       ┆ 94107    │\n",
              "│ 2013-09-01 ┆ 74         ┆ 66         ┆ 58        ┆ … ┆ 4         ┆ null   ┆ 284       ┆ 94107    │\n",
              "│ 2013-09-02 ┆ 75         ┆ 69         ┆ 62        ┆ … ┆ 6         ┆ null   ┆ 277       ┆ 94107    │\n",
              "└────────────┴────────────┴────────────┴───────────┴───┴───────────┴────────┴───────────┴──────────┘"
            ],
            "text/html": [
              "<div><style>\n",
              ".dataframe > thead > tr,\n",
              ".dataframe > tbody > tr {\n",
              "  text-align: right;\n",
              "  white-space: pre-wrap;\n",
              "}\n",
              "</style>\n",
              "<small>shape: (5, 24)</small><table border=\"1\" class=\"dataframe\"><thead><tr><th>date</th><th>max_temperature_f</th><th>mean_temperature_f</th><th>min_temperature_f</th><th>max_dew_point_f</th><th>mean_dew_point_f</th><th>min_dew_point_f</th><th>max_humidity</th><th>mean_humidity</th><th>min_humidity</th><th>max_sea_level_pressure_inches</th><th>mean_sea_level_pressure_inches</th><th>min_sea_level_pressure_inches</th><th>max_visibility_miles</th><th>mean_visibility_miles</th><th>min_visibility_miles</th><th>max_wind_Speed_mph</th><th>mean_wind_speed_mph</th><th>max_gust_speed_mph</th><th>precipitation_inches</th><th>cloud_cover</th><th>events</th><th>wind_dir_degrees</th><th>zip_code</th></tr><tr><td>date</td><td>i64</td><td>i64</td><td>i64</td><td>i64</td><td>i64</td><td>i64</td><td>i64</td><td>i64</td><td>i64</td><td>f64</td><td>f64</td><td>f64</td><td>i64</td><td>i64</td><td>i64</td><td>i64</td><td>i64</td><td>i64</td><td>str</td><td>i64</td><td>str</td><td>i64</td><td>i64</td></tr></thead><tbody><tr><td>2013-08-29</td><td>74</td><td>68</td><td>61</td><td>61</td><td>58</td><td>56</td><td>93</td><td>75</td><td>57</td><td>30.07</td><td>30.02</td><td>29.97</td><td>10</td><td>10</td><td>10</td><td>23</td><td>11</td><td>28</td><td>&quot;0&quot;</td><td>4</td><td>null</td><td>286</td><td>94107</td></tr><tr><td>2013-08-30</td><td>78</td><td>69</td><td>60</td><td>61</td><td>58</td><td>56</td><td>90</td><td>70</td><td>50</td><td>30.05</td><td>30.0</td><td>29.93</td><td>10</td><td>10</td><td>7</td><td>29</td><td>13</td><td>35</td><td>&quot;0&quot;</td><td>2</td><td>null</td><td>291</td><td>94107</td></tr><tr><td>2013-08-31</td><td>71</td><td>64</td><td>57</td><td>57</td><td>56</td><td>54</td><td>93</td><td>75</td><td>57</td><td>30.0</td><td>29.96</td><td>29.92</td><td>10</td><td>10</td><td>10</td><td>26</td><td>15</td><td>31</td><td>&quot;0&quot;</td><td>4</td><td>null</td><td>284</td><td>94107</td></tr><tr><td>2013-09-01</td><td>74</td><td>66</td><td>58</td><td>60</td><td>56</td><td>53</td><td>87</td><td>68</td><td>49</td><td>29.96</td><td>29.93</td><td>29.91</td><td>10</td><td>10</td><td>10</td><td>25</td><td>13</td><td>29</td><td>&quot;0&quot;</td><td>4</td><td>null</td><td>284</td><td>94107</td></tr><tr><td>2013-09-02</td><td>75</td><td>69</td><td>62</td><td>61</td><td>60</td><td>58</td><td>93</td><td>77</td><td>61</td><td>29.97</td><td>29.94</td><td>29.9</td><td>10</td><td>10</td><td>6</td><td>23</td><td>12</td><td>30</td><td>&quot;0&quot;</td><td>6</td><td>null</td><td>277</td><td>94107</td></tr></tbody></table></div>"
            ]
          },
          "metadata": {},
          "execution_count": 2
        }
      ]
    },
    {
      "cell_type": "code",
      "source": [
        "#Question1A\n",
        "trips_weather = trips.join(weather, on=\"date\", how=\"left\")\n",
        "trips_weather"
      ],
      "metadata": {
        "colab": {
          "base_uri": "https://localhost:8080/",
          "height": 637
        },
        "id": "m-neGR294RVo",
        "outputId": "4703336e-0a9d-4db9-c3a2-4e05beded47a"
      },
      "execution_count": 3,
      "outputs": [
        {
          "output_type": "execute_result",
          "data": {
            "text/plain": [
              "shape: (78_704, 35)\n",
              "┌────────┬──────────┬─────────────┬────────────┬───┬────────────┬────────┬────────────┬────────────┐\n",
              "│ id     ┆ duration ┆ start_date  ┆ start_stat ┆ … ┆ cloud_cove ┆ events ┆ wind_dir_d ┆ zip_code_r │\n",
              "│ ---    ┆ ---      ┆ ---         ┆ ion_name   ┆   ┆ r          ┆ ---    ┆ egrees     ┆ ight       │\n",
              "│ i64    ┆ i64      ┆ str         ┆ ---        ┆   ┆ ---        ┆ str    ┆ ---        ┆ ---        │\n",
              "│        ┆          ┆             ┆ str        ┆   ┆ i64        ┆        ┆ i64        ┆ i64        │\n",
              "╞════════╪══════════╪═════════════╪════════════╪═══╪════════════╪════════╪════════════╪════════════╡\n",
              "│ 4721   ┆ 3        ┆ 2013-08-29T ┆ Market at  ┆ … ┆ 4          ┆ null   ┆ 286        ┆ 94107      │\n",
              "│        ┆          ┆ 20:27:00Z   ┆ 10th       ┆   ┆            ┆        ┆            ┆            │\n",
              "│ 4812   ┆ 3        ┆ 2013-08-29T ┆ 2nd at     ┆ … ┆ 4          ┆ null   ┆ 286        ┆ 94107      │\n",
              "│        ┆          ┆ 21:30:00Z   ┆ Folsom     ┆   ┆            ┆        ┆            ┆            │\n",
              "│ 4705   ┆ 3        ┆ 2013-08-29T ┆ Golden     ┆ … ┆ 4          ┆ null   ┆ 286        ┆ 94107      │\n",
              "│        ┆          ┆ 20:15:00Z   ┆ Gate at    ┆   ┆            ┆        ┆            ┆            │\n",
              "│        ┆          ┆             ┆ Polk       ┆   ┆            ┆        ┆            ┆            │\n",
              "│ 4841   ┆ 3        ┆ 2013-08-29T ┆ University ┆ … ┆ 4          ┆ null   ┆ 286        ┆ 94107      │\n",
              "│        ┆          ┆ 21:48:00Z   ┆ and        ┆   ┆            ┆        ┆            ┆            │\n",
              "│        ┆          ┆             ┆ Emerson    ┆   ┆            ┆        ┆            ┆            │\n",
              "│ 4668   ┆ 4        ┆ 2013-08-29T ┆ San        ┆ … ┆ 4          ┆ null   ┆ 286        ┆ 94107      │\n",
              "│        ┆          ┆ 19:39:00Z   ┆ Francisco  ┆   ┆            ┆        ┆            ┆            │\n",
              "│        ┆          ┆             ┆ Caltrain 2 ┆   ┆            ┆        ┆            ┆            │\n",
              "│        ┆          ┆             ┆ (330 …     ┆   ┆            ┆        ┆            ┆            │\n",
              "│ …      ┆ …        ┆ …           ┆ …          ┆ … ┆ …          ┆ …      ┆ …          ┆ …          │\n",
              "│ 433040 ┆ 3        ┆ 2014-09-01T ┆ Townsend   ┆ … ┆ 0          ┆ null   ┆ 290        ┆ 94107      │\n",
              "│        ┆          ┆ 14:43:00Z   ┆ at 7th     ┆   ┆            ┆        ┆            ┆            │\n",
              "│ 433035 ┆ 9        ┆ 2014-09-01T ┆ Powell     ┆ … ┆ 0          ┆ null   ┆ 290        ┆ 94107      │\n",
              "│        ┆          ┆ 14:37:00Z   ┆ Street     ┆   ┆            ┆        ┆            ┆            │\n",
              "│        ┆          ┆             ┆ BART       ┆   ┆            ┆        ┆            ┆            │\n",
              "│ 433030 ┆ 6        ┆ 2014-09-01T ┆ Powell     ┆ … ┆ 0          ┆ null   ┆ 290        ┆ 94107      │\n",
              "│        ┆          ┆ 14:31:00Z   ┆ Street     ┆   ┆            ┆        ┆            ┆            │\n",
              "│        ┆          ┆             ┆ BART       ┆   ┆            ┆        ┆            ┆            │\n",
              "│ 433004 ┆ 7        ┆ 2014-09-01T ┆ Steuart at ┆ … ┆ 0          ┆ null   ┆ 290        ┆ 94107      │\n",
              "│        ┆          ┆ 13:36:00Z   ┆ Market     ┆   ┆            ┆        ┆            ┆            │\n",
              "│ 432998 ┆ 6        ┆ 2014-09-01T ┆ Market at  ┆ … ┆ 0          ┆ null   ┆ 290        ┆ 94107      │\n",
              "│        ┆          ┆ 13:16:00Z   ┆ 10th       ┆   ┆            ┆        ┆            ┆            │\n",
              "└────────┴──────────┴─────────────┴────────────┴───┴────────────┴────────┴────────────┴────────────┘"
            ],
            "text/html": [
              "<div><style>\n",
              ".dataframe > thead > tr,\n",
              ".dataframe > tbody > tr {\n",
              "  text-align: right;\n",
              "  white-space: pre-wrap;\n",
              "}\n",
              "</style>\n",
              "<small>shape: (78_704, 35)</small><table border=\"1\" class=\"dataframe\"><thead><tr><th>id</th><th>duration</th><th>start_date</th><th>start_station_name</th><th>start_station_id</th><th>end_date</th><th>end_station_name</th><th>end_station_id</th><th>bike_id</th><th>subscription_type</th><th>zip_code</th><th>date</th><th>max_temperature_f</th><th>mean_temperature_f</th><th>min_temperature_f</th><th>max_dew_point_f</th><th>mean_dew_point_f</th><th>min_dew_point_f</th><th>max_humidity</th><th>mean_humidity</th><th>min_humidity</th><th>max_sea_level_pressure_inches</th><th>mean_sea_level_pressure_inches</th><th>min_sea_level_pressure_inches</th><th>max_visibility_miles</th><th>mean_visibility_miles</th><th>min_visibility_miles</th><th>max_wind_Speed_mph</th><th>mean_wind_speed_mph</th><th>max_gust_speed_mph</th><th>precipitation_inches</th><th>cloud_cover</th><th>events</th><th>wind_dir_degrees</th><th>zip_code_right</th></tr><tr><td>i64</td><td>i64</td><td>str</td><td>str</td><td>i64</td><td>str</td><td>str</td><td>i64</td><td>i64</td><td>str</td><td>i64</td><td>date</td><td>i64</td><td>i64</td><td>i64</td><td>i64</td><td>i64</td><td>i64</td><td>i64</td><td>i64</td><td>i64</td><td>f64</td><td>f64</td><td>f64</td><td>i64</td><td>i64</td><td>i64</td><td>i64</td><td>i64</td><td>i64</td><td>str</td><td>i64</td><td>str</td><td>i64</td><td>i64</td></tr></thead><tbody><tr><td>4721</td><td>3</td><td>&quot;2013-08-29T20:27:00Z&quot;</td><td>&quot;Market at 10th&quot;</td><td>67</td><td>&quot;2013-08-29T20:30:00Z&quot;</td><td>&quot;South Van Ness at Market&quot;</td><td>66</td><td>416</td><td>&quot;Subscriber&quot;</td><td>94107</td><td>2013-08-29</td><td>74</td><td>68</td><td>61</td><td>61</td><td>58</td><td>56</td><td>93</td><td>75</td><td>57</td><td>30.07</td><td>30.02</td><td>29.97</td><td>10</td><td>10</td><td>10</td><td>23</td><td>11</td><td>28</td><td>&quot;0&quot;</td><td>4</td><td>null</td><td>286</td><td>94107</td></tr><tr><td>4812</td><td>3</td><td>&quot;2013-08-29T21:30:00Z&quot;</td><td>&quot;2nd at Folsom&quot;</td><td>62</td><td>&quot;2013-08-29T21:33:00Z&quot;</td><td>&quot;2nd at Folsom&quot;</td><td>62</td><td>409</td><td>&quot;Subscriber&quot;</td><td>94107</td><td>2013-08-29</td><td>74</td><td>68</td><td>61</td><td>61</td><td>58</td><td>56</td><td>93</td><td>75</td><td>57</td><td>30.07</td><td>30.02</td><td>29.97</td><td>10</td><td>10</td><td>10</td><td>23</td><td>11</td><td>28</td><td>&quot;0&quot;</td><td>4</td><td>null</td><td>286</td><td>94107</td></tr><tr><td>4705</td><td>3</td><td>&quot;2013-08-29T20:15:00Z&quot;</td><td>&quot;Golden Gate at Polk&quot;</td><td>59</td><td>&quot;2013-08-29T20:18:00Z&quot;</td><td>&quot;San Francisco City Hall&quot;</td><td>58</td><td>519</td><td>&quot;Subscriber&quot;</td><td>94107</td><td>2013-08-29</td><td>74</td><td>68</td><td>61</td><td>61</td><td>58</td><td>56</td><td>93</td><td>75</td><td>57</td><td>30.07</td><td>30.02</td><td>29.97</td><td>10</td><td>10</td><td>10</td><td>23</td><td>11</td><td>28</td><td>&quot;0&quot;</td><td>4</td><td>null</td><td>286</td><td>94107</td></tr><tr><td>4841</td><td>3</td><td>&quot;2013-08-29T21:48:00Z&quot;</td><td>&quot;University and Emerson&quot;</td><td>35</td><td>&quot;2013-08-29T21:51:00Z&quot;</td><td>&quot;Cowper at University&quot;</td><td>37</td><td>83</td><td>&quot;Subscriber&quot;</td><td>94107</td><td>2013-08-29</td><td>74</td><td>68</td><td>61</td><td>61</td><td>58</td><td>56</td><td>93</td><td>75</td><td>57</td><td>30.07</td><td>30.02</td><td>29.97</td><td>10</td><td>10</td><td>10</td><td>23</td><td>11</td><td>28</td><td>&quot;0&quot;</td><td>4</td><td>null</td><td>286</td><td>94107</td></tr><tr><td>4668</td><td>4</td><td>&quot;2013-08-29T19:39:00Z&quot;</td><td>&quot;San Francisco Caltrain 2 (330 …</td><td>69</td><td>&quot;2013-08-29T19:43:00Z&quot;</td><td>&quot;Townsend at 7th&quot;</td><td>65</td><td>489</td><td>&quot;Subscriber&quot;</td><td>94107</td><td>2013-08-29</td><td>74</td><td>68</td><td>61</td><td>61</td><td>58</td><td>56</td><td>93</td><td>75</td><td>57</td><td>30.07</td><td>30.02</td><td>29.97</td><td>10</td><td>10</td><td>10</td><td>23</td><td>11</td><td>28</td><td>&quot;0&quot;</td><td>4</td><td>null</td><td>286</td><td>94107</td></tr><tr><td>&hellip;</td><td>&hellip;</td><td>&hellip;</td><td>&hellip;</td><td>&hellip;</td><td>&hellip;</td><td>&hellip;</td><td>&hellip;</td><td>&hellip;</td><td>&hellip;</td><td>&hellip;</td><td>&hellip;</td><td>&hellip;</td><td>&hellip;</td><td>&hellip;</td><td>&hellip;</td><td>&hellip;</td><td>&hellip;</td><td>&hellip;</td><td>&hellip;</td><td>&hellip;</td><td>&hellip;</td><td>&hellip;</td><td>&hellip;</td><td>&hellip;</td><td>&hellip;</td><td>&hellip;</td><td>&hellip;</td><td>&hellip;</td><td>&hellip;</td><td>&hellip;</td><td>&hellip;</td><td>&hellip;</td><td>&hellip;</td><td>&hellip;</td></tr><tr><td>433040</td><td>3</td><td>&quot;2014-09-01T14:43:00Z&quot;</td><td>&quot;Townsend at 7th&quot;</td><td>65</td><td>&quot;2014-09-01T14:46:00Z&quot;</td><td>&quot;San Francisco Caltrain (Townse…</td><td>70</td><td>111</td><td>&quot;Subscriber&quot;</td><td>94107</td><td>2014-09-01</td><td>83</td><td>70</td><td>57</td><td>58</td><td>56</td><td>52</td><td>86</td><td>64</td><td>42</td><td>29.86</td><td>29.82</td><td>29.76</td><td>10</td><td>10</td><td>8</td><td>16</td><td>7</td><td>20</td><td>&quot;0&quot;</td><td>0</td><td>null</td><td>290</td><td>94107</td></tr><tr><td>433035</td><td>9</td><td>&quot;2014-09-01T14:37:00Z&quot;</td><td>&quot;Powell Street BART&quot;</td><td>39</td><td>&quot;2014-09-01T14:46:00Z&quot;</td><td>&quot;Townsend at 7th&quot;</td><td>65</td><td>376</td><td>&quot;Subscriber&quot;</td><td>94107</td><td>2014-09-01</td><td>83</td><td>70</td><td>57</td><td>58</td><td>56</td><td>52</td><td>86</td><td>64</td><td>42</td><td>29.86</td><td>29.82</td><td>29.76</td><td>10</td><td>10</td><td>8</td><td>16</td><td>7</td><td>20</td><td>&quot;0&quot;</td><td>0</td><td>null</td><td>290</td><td>94107</td></tr><tr><td>433030</td><td>6</td><td>&quot;2014-09-01T14:31:00Z&quot;</td><td>&quot;Powell Street BART&quot;</td><td>39</td><td>&quot;2014-09-01T14:37:00Z&quot;</td><td>&quot;Market at 10th&quot;</td><td>67</td><td>421</td><td>&quot;Subscriber&quot;</td><td>94107</td><td>2014-09-01</td><td>83</td><td>70</td><td>57</td><td>58</td><td>56</td><td>52</td><td>86</td><td>64</td><td>42</td><td>29.86</td><td>29.82</td><td>29.76</td><td>10</td><td>10</td><td>8</td><td>16</td><td>7</td><td>20</td><td>&quot;0&quot;</td><td>0</td><td>null</td><td>290</td><td>94107</td></tr><tr><td>433004</td><td>7</td><td>&quot;2014-09-01T13:36:00Z&quot;</td><td>&quot;Steuart at Market&quot;</td><td>74</td><td>&quot;2014-09-01T13:43:00Z&quot;</td><td>&quot;2nd at Townsend&quot;</td><td>61</td><td>449</td><td>&quot;Subscriber&quot;</td><td>94107</td><td>2014-09-01</td><td>83</td><td>70</td><td>57</td><td>58</td><td>56</td><td>52</td><td>86</td><td>64</td><td>42</td><td>29.86</td><td>29.82</td><td>29.76</td><td>10</td><td>10</td><td>8</td><td>16</td><td>7</td><td>20</td><td>&quot;0&quot;</td><td>0</td><td>null</td><td>290</td><td>94107</td></tr><tr><td>432998</td><td>6</td><td>&quot;2014-09-01T13:16:00Z&quot;</td><td>&quot;Market at 10th&quot;</td><td>67</td><td>&quot;2014-09-01T13:22:00Z&quot;</td><td>&quot;Powell Street BART&quot;</td><td>39</td><td>421</td><td>&quot;Subscriber&quot;</td><td>94107</td><td>2014-09-01</td><td>83</td><td>70</td><td>57</td><td>58</td><td>56</td><td>52</td><td>86</td><td>64</td><td>42</td><td>29.86</td><td>29.82</td><td>29.76</td><td>10</td><td>10</td><td>8</td><td>16</td><td>7</td><td>20</td><td>&quot;0&quot;</td><td>0</td><td>null</td><td>290</td><td>94107</td></tr></tbody></table></div>"
            ]
          },
          "metadata": {},
          "execution_count": 3
        }
      ]
    },
    {
      "cell_type": "code",
      "source": [
        "#Question1B\n",
        "bad_weather_days = trips_weather.filter(pl.col('events').is_not_null())\n",
        "bad_weather_days\n",
        "\n",
        "avg_bad_weather = bad_weather_days.select(pl.col('duration').mean().alias('avg_duration'))\n",
        "avg_bad_weather"
      ],
      "metadata": {
        "colab": {
          "base_uri": "https://localhost:8080/",
          "height": 129
        },
        "id": "UkNzaFU34T2C",
        "outputId": "647505ec-9397-4b46-b4eb-13e8428d6cfd"
      },
      "execution_count": 4,
      "outputs": [
        {
          "output_type": "execute_result",
          "data": {
            "text/plain": [
              "shape: (1, 1)\n",
              "┌──────────────┐\n",
              "│ avg_duration │\n",
              "│ ---          │\n",
              "│ f64          │\n",
              "╞══════════════╡\n",
              "│ 10.34899     │\n",
              "└──────────────┘"
            ],
            "text/html": [
              "<div><style>\n",
              ".dataframe > thead > tr,\n",
              ".dataframe > tbody > tr {\n",
              "  text-align: right;\n",
              "  white-space: pre-wrap;\n",
              "}\n",
              "</style>\n",
              "<small>shape: (1, 1)</small><table border=\"1\" class=\"dataframe\"><thead><tr><th>avg_duration</th></tr><tr><td>f64</td></tr></thead><tbody><tr><td>10.34899</td></tr></tbody></table></div>"
            ]
          },
          "metadata": {},
          "execution_count": 4
        }
      ]
    },
    {
      "cell_type": "code",
      "source": [
        "batting = pl.read_csv(\"https://raw.githubusercontent.com/philhetzel/opan5510-class9/refs/heads/main/data/Batting.csv\", null_values='NA')\n",
        "people = pl.read_csv(\"https://raw.githubusercontent.com/philhetzel/opan5510-class9/refs/heads/main/data/People.csv\", null_values='NA')\n",
        "hallOfFame = pl.read_csv(\"https://raw.githubusercontent.com/philhetzel/opan5510-class9/refs/heads/main/data/HallOfFame.csv\", null_values='NA')\n",
        "\n",
        "print(batting.head(5))\n",
        "print(people.head(5))\n",
        "print(hallOfFame.head(5))"
      ],
      "metadata": {
        "colab": {
          "base_uri": "https://localhost:8080/"
        },
        "id": "hLNQHIyw4d4R",
        "outputId": "f3bd66dd-1c89-49d5-ef0e-68707507253f"
      },
      "execution_count": 5,
      "outputs": [
        {
          "output_type": "stream",
          "name": "stdout",
          "text": [
            "shape: (5, 22)\n",
            "┌───────────┬────────┬───────┬────────┬───┬──────┬──────┬──────┬──────┐\n",
            "│ playerID  ┆ yearID ┆ stint ┆ teamID ┆ … ┆ HBP  ┆ SH   ┆ SF   ┆ GIDP │\n",
            "│ ---       ┆ ---    ┆ ---   ┆ ---    ┆   ┆ ---  ┆ ---  ┆ ---  ┆ ---  │\n",
            "│ str       ┆ i64    ┆ i64   ┆ str    ┆   ┆ str  ┆ str  ┆ str  ┆ i64  │\n",
            "╞═══════════╪════════╪═══════╪════════╪═══╪══════╪══════╪══════╪══════╡\n",
            "│ abercda01 ┆ 1871   ┆ 1     ┆ TRO    ┆ … ┆ null ┆ null ┆ null ┆ 0    │\n",
            "│ addybo01  ┆ 1871   ┆ 1     ┆ RC1    ┆ … ┆ null ┆ null ┆ null ┆ 0    │\n",
            "│ allisar01 ┆ 1871   ┆ 1     ┆ CL1    ┆ … ┆ null ┆ null ┆ null ┆ 1    │\n",
            "│ allisdo01 ┆ 1871   ┆ 1     ┆ WS3    ┆ … ┆ null ┆ null ┆ null ┆ 0    │\n",
            "│ ansonca01 ┆ 1871   ┆ 1     ┆ RC1    ┆ … ┆ null ┆ null ┆ null ┆ 0    │\n",
            "└───────────┴────────┴───────┴────────┴───┴──────┴──────┴──────┴──────┘\n",
            "shape: (5, 26)\n",
            "┌───────────┬───────────┬────────────┬──────────┬───┬──────────┬───────────┬───────────┬───────────┐\n",
            "│ playerID  ┆ birthYear ┆ birthMonth ┆ birthDay ┆ … ┆ retroID  ┆ bbrefID   ┆ deathDate ┆ birthDate │\n",
            "│ ---       ┆ ---       ┆ ---        ┆ ---      ┆   ┆ ---      ┆ ---       ┆ ---       ┆ ---       │\n",
            "│ str       ┆ i64       ┆ i64        ┆ i64      ┆   ┆ str      ┆ str       ┆ str       ┆ str       │\n",
            "╞═══════════╪═══════════╪════════════╪══════════╪═══╪══════════╪═══════════╪═══════════╪═══════════╡\n",
            "│ aardsda01 ┆ 1981      ┆ 12         ┆ 27       ┆ … ┆ aardd001 ┆ aardsda01 ┆ null      ┆ 1981-12-2 │\n",
            "│           ┆           ┆            ┆          ┆   ┆          ┆           ┆           ┆ 7         │\n",
            "│ aaronha01 ┆ 1934      ┆ 2          ┆ 5        ┆ … ┆ aaroh101 ┆ aaronha01 ┆ 2021-01-2 ┆ 1934-02-0 │\n",
            "│           ┆           ┆            ┆          ┆   ┆          ┆           ┆ 2         ┆ 5         │\n",
            "│ aaronto01 ┆ 1939      ┆ 8          ┆ 5        ┆ … ┆ aarot101 ┆ aaronto01 ┆ 1984-08-1 ┆ 1939-08-0 │\n",
            "│           ┆           ┆            ┆          ┆   ┆          ┆           ┆ 6         ┆ 5         │\n",
            "│ aasedo01  ┆ 1954      ┆ 9          ┆ 8        ┆ … ┆ aased001 ┆ aasedo01  ┆ null      ┆ 1954-09-0 │\n",
            "│           ┆           ┆            ┆          ┆   ┆          ┆           ┆           ┆ 8         │\n",
            "│ abadan01  ┆ 1972      ┆ 8          ┆ 25       ┆ … ┆ abada001 ┆ abadan01  ┆ null      ┆ 1972-08-2 │\n",
            "│           ┆           ┆            ┆          ┆   ┆          ┆           ┆           ┆ 5         │\n",
            "└───────────┴───────────┴────────────┴──────────┴───┴──────────┴───────────┴───────────┴───────────┘\n",
            "shape: (5, 9)\n",
            "┌───────────┬────────┬─────────┬─────────┬───┬───────┬──────────┬──────────┬─────────────┐\n",
            "│ playerID  ┆ yearID ┆ votedBy ┆ ballots ┆ … ┆ votes ┆ inducted ┆ category ┆ needed_note │\n",
            "│ ---       ┆ ---    ┆ ---     ┆ ---     ┆   ┆ ---   ┆ ---      ┆ ---      ┆ ---         │\n",
            "│ str       ┆ i64    ┆ str     ┆ i64     ┆   ┆ i64   ┆ str      ┆ str      ┆ str         │\n",
            "╞═══════════╪════════╪═════════╪═════════╪═══╪═══════╪══════════╪══════════╪═════════════╡\n",
            "│ cobbty01  ┆ 1936   ┆ BBWAA   ┆ 226     ┆ … ┆ 222   ┆ Y        ┆ Player   ┆ null        │\n",
            "│ ruthba01  ┆ 1936   ┆ BBWAA   ┆ 226     ┆ … ┆ 215   ┆ Y        ┆ Player   ┆ null        │\n",
            "│ wagneho01 ┆ 1936   ┆ BBWAA   ┆ 226     ┆ … ┆ 215   ┆ Y        ┆ Player   ┆ null        │\n",
            "│ mathech01 ┆ 1936   ┆ BBWAA   ┆ 226     ┆ … ┆ 205   ┆ Y        ┆ Player   ┆ null        │\n",
            "│ johnswa01 ┆ 1936   ┆ BBWAA   ┆ 226     ┆ … ┆ 189   ┆ Y        ┆ Player   ┆ null        │\n",
            "└───────────┴────────┴─────────┴─────────┴───┴───────┴──────────┴──────────┴─────────────┘\n"
          ]
        }
      ]
    },
    {
      "cell_type": "code",
      "source": [
        "#Question2A\n",
        "stats_w_bio = batting.join(people, on=\"playerID\", how=\"left\")\n",
        "stats_w_bio"
      ],
      "metadata": {
        "colab": {
          "base_uri": "https://localhost:8080/",
          "height": 637
        },
        "id": "eJoVthad4hLs",
        "outputId": "211200a3-a0b5-46f4-c072-519fe497440b"
      },
      "execution_count": 6,
      "outputs": [
        {
          "output_type": "execute_result",
          "data": {
            "text/plain": [
              "shape: (112_184, 47)\n",
              "┌───────────┬────────┬───────┬────────┬───┬──────────┬───────────┬────────────┬────────────┐\n",
              "│ playerID  ┆ yearID ┆ stint ┆ teamID ┆ … ┆ retroID  ┆ bbrefID   ┆ deathDate  ┆ birthDate  │\n",
              "│ ---       ┆ ---    ┆ ---   ┆ ---    ┆   ┆ ---      ┆ ---       ┆ ---        ┆ ---        │\n",
              "│ str       ┆ i64    ┆ i64   ┆ str    ┆   ┆ str      ┆ str       ┆ str        ┆ str        │\n",
              "╞═══════════╪════════╪═══════╪════════╪═══╪══════════╪═══════════╪════════════╪════════════╡\n",
              "│ abercda01 ┆ 1871   ┆ 1     ┆ TRO    ┆ … ┆ aberd101 ┆ abercda01 ┆ 1939-11-11 ┆ 1850-01-02 │\n",
              "│ addybo01  ┆ 1871   ┆ 1     ┆ RC1    ┆ … ┆ addyb101 ┆ addybo01  ┆ 1910-04-09 ┆ null       │\n",
              "│ allisar01 ┆ 1871   ┆ 1     ┆ CL1    ┆ … ┆ allia101 ┆ allisar01 ┆ 1916-02-25 ┆ 1849-01-29 │\n",
              "│ allisdo01 ┆ 1871   ┆ 1     ┆ WS3    ┆ … ┆ allid101 ┆ allisdo01 ┆ 1916-12-19 ┆ 1846-07-12 │\n",
              "│ ansonca01 ┆ 1871   ┆ 1     ┆ RC1    ┆ … ┆ ansoc101 ┆ ansonca01 ┆ 1922-04-14 ┆ 1852-04-17 │\n",
              "│ …         ┆ …      ┆ …     ┆ …      ┆ … ┆ …        ┆ …         ┆ …          ┆ …          │\n",
              "│ zimmebr01 ┆ 2022   ┆ 1     ┆ TOR    ┆ … ┆ zimmb001 ┆ zimmebr01 ┆ null       ┆ 1992-11-27 │\n",
              "│ zimmebr01 ┆ 2022   ┆ 2     ┆ PHI    ┆ … ┆ zimmb001 ┆ zimmebr01 ┆ null       ┆ 1992-11-27 │\n",
              "│ zimmebr01 ┆ 2022   ┆ 3     ┆ TOR    ┆ … ┆ zimmb001 ┆ zimmebr01 ┆ null       ┆ 1992-11-27 │\n",
              "│ zimmebr02 ┆ 2022   ┆ 1     ┆ BAL    ┆ … ┆ zimmb002 ┆ zimmebr02 ┆ null       ┆ 1995-02-09 │\n",
              "│ zuninmi01 ┆ 2022   ┆ 1     ┆ TBA    ┆ … ┆ zunim001 ┆ zuninmi01 ┆ null       ┆ 1991-03-25 │\n",
              "└───────────┴────────┴───────┴────────┴───┴──────────┴───────────┴────────────┴────────────┘"
            ],
            "text/html": [
              "<div><style>\n",
              ".dataframe > thead > tr,\n",
              ".dataframe > tbody > tr {\n",
              "  text-align: right;\n",
              "  white-space: pre-wrap;\n",
              "}\n",
              "</style>\n",
              "<small>shape: (112_184, 47)</small><table border=\"1\" class=\"dataframe\"><thead><tr><th>playerID</th><th>yearID</th><th>stint</th><th>teamID</th><th>lgID</th><th>G</th><th>AB</th><th>R</th><th>H</th><th>X2B</th><th>X3B</th><th>HR</th><th>RBI</th><th>SB</th><th>CS</th><th>BB</th><th>SO</th><th>IBB</th><th>HBP</th><th>SH</th><th>SF</th><th>GIDP</th><th>birthYear</th><th>birthMonth</th><th>birthDay</th><th>birthCountry</th><th>birthState</th><th>birthCity</th><th>deathYear</th><th>deathMonth</th><th>deathDay</th><th>deathCountry</th><th>deathState</th><th>deathCity</th><th>nameFirst</th><th>nameLast</th><th>nameGiven</th><th>weight</th><th>height</th><th>bats</th><th>throws</th><th>debut</th><th>finalGame</th><th>retroID</th><th>bbrefID</th><th>deathDate</th><th>birthDate</th></tr><tr><td>str</td><td>i64</td><td>i64</td><td>str</td><td>str</td><td>i64</td><td>i64</td><td>i64</td><td>i64</td><td>i64</td><td>i64</td><td>i64</td><td>i64</td><td>i64</td><td>i64</td><td>i64</td><td>i64</td><td>str</td><td>str</td><td>str</td><td>str</td><td>i64</td><td>i64</td><td>i64</td><td>i64</td><td>str</td><td>str</td><td>str</td><td>i64</td><td>i64</td><td>i64</td><td>str</td><td>str</td><td>str</td><td>str</td><td>str</td><td>str</td><td>i64</td><td>i64</td><td>str</td><td>str</td><td>str</td><td>str</td><td>str</td><td>str</td><td>str</td><td>str</td></tr></thead><tbody><tr><td>&quot;abercda01&quot;</td><td>1871</td><td>1</td><td>&quot;TRO&quot;</td><td>null</td><td>1</td><td>4</td><td>0</td><td>0</td><td>0</td><td>0</td><td>0</td><td>0</td><td>0</td><td>0</td><td>0</td><td>0</td><td>null</td><td>null</td><td>null</td><td>null</td><td>0</td><td>1850</td><td>1</td><td>2</td><td>&quot;USA&quot;</td><td>&quot;OK&quot;</td><td>&quot;Fort Towson&quot;</td><td>1939</td><td>11</td><td>11</td><td>&quot;USA&quot;</td><td>&quot;PA&quot;</td><td>&quot;Philadelphia&quot;</td><td>&quot;Frank&quot;</td><td>&quot;Abercrombie&quot;</td><td>&quot;Francis Patterson&quot;</td><td>null</td><td>null</td><td>null</td><td>null</td><td>&quot;1871-10-21&quot;</td><td>&quot;1871-10-21&quot;</td><td>&quot;aberd101&quot;</td><td>&quot;abercda01&quot;</td><td>&quot;1939-11-11&quot;</td><td>&quot;1850-01-02&quot;</td></tr><tr><td>&quot;addybo01&quot;</td><td>1871</td><td>1</td><td>&quot;RC1&quot;</td><td>null</td><td>25</td><td>118</td><td>30</td><td>32</td><td>6</td><td>0</td><td>0</td><td>13</td><td>8</td><td>1</td><td>4</td><td>0</td><td>null</td><td>null</td><td>null</td><td>null</td><td>0</td><td>1842</td><td>2</td><td>null</td><td>&quot;CAN&quot;</td><td>&quot;ON&quot;</td><td>&quot;Port Hope&quot;</td><td>1910</td><td>4</td><td>9</td><td>&quot;USA&quot;</td><td>&quot;ID&quot;</td><td>&quot;Pocatello&quot;</td><td>&quot;Bob&quot;</td><td>&quot;Addy&quot;</td><td>&quot;Robert Edward&quot;</td><td>160</td><td>68</td><td>&quot;L&quot;</td><td>&quot;L&quot;</td><td>&quot;1871-05-06&quot;</td><td>&quot;1877-10-06&quot;</td><td>&quot;addyb101&quot;</td><td>&quot;addybo01&quot;</td><td>&quot;1910-04-09&quot;</td><td>null</td></tr><tr><td>&quot;allisar01&quot;</td><td>1871</td><td>1</td><td>&quot;CL1&quot;</td><td>null</td><td>29</td><td>137</td><td>28</td><td>40</td><td>4</td><td>5</td><td>0</td><td>19</td><td>3</td><td>1</td><td>2</td><td>5</td><td>null</td><td>null</td><td>null</td><td>null</td><td>1</td><td>1849</td><td>1</td><td>29</td><td>&quot;USA&quot;</td><td>&quot;PA&quot;</td><td>&quot;Philadelphia&quot;</td><td>1916</td><td>2</td><td>25</td><td>&quot;USA&quot;</td><td>&quot;DC&quot;</td><td>&quot;Washington&quot;</td><td>&quot;Art&quot;</td><td>&quot;Allison&quot;</td><td>&quot;Arthur Algernon&quot;</td><td>150</td><td>68</td><td>null</td><td>null</td><td>&quot;1871-05-04&quot;</td><td>&quot;1876-10-05&quot;</td><td>&quot;allia101&quot;</td><td>&quot;allisar01&quot;</td><td>&quot;1916-02-25&quot;</td><td>&quot;1849-01-29&quot;</td></tr><tr><td>&quot;allisdo01&quot;</td><td>1871</td><td>1</td><td>&quot;WS3&quot;</td><td>null</td><td>27</td><td>133</td><td>28</td><td>44</td><td>10</td><td>2</td><td>2</td><td>27</td><td>1</td><td>1</td><td>0</td><td>2</td><td>null</td><td>null</td><td>null</td><td>null</td><td>0</td><td>1846</td><td>7</td><td>12</td><td>&quot;USA&quot;</td><td>&quot;PA&quot;</td><td>&quot;Philadelphia&quot;</td><td>1916</td><td>12</td><td>19</td><td>&quot;USA&quot;</td><td>&quot;DC&quot;</td><td>&quot;Washington&quot;</td><td>&quot;Doug&quot;</td><td>&quot;Allison&quot;</td><td>&quot;Douglas L.&quot;</td><td>160</td><td>70</td><td>&quot;R&quot;</td><td>&quot;R&quot;</td><td>&quot;1871-05-05&quot;</td><td>&quot;1883-07-13&quot;</td><td>&quot;allid101&quot;</td><td>&quot;allisdo01&quot;</td><td>&quot;1916-12-19&quot;</td><td>&quot;1846-07-12&quot;</td></tr><tr><td>&quot;ansonca01&quot;</td><td>1871</td><td>1</td><td>&quot;RC1&quot;</td><td>null</td><td>25</td><td>120</td><td>29</td><td>39</td><td>11</td><td>3</td><td>0</td><td>16</td><td>6</td><td>2</td><td>2</td><td>1</td><td>null</td><td>null</td><td>null</td><td>null</td><td>0</td><td>1852</td><td>4</td><td>17</td><td>&quot;USA&quot;</td><td>&quot;IA&quot;</td><td>&quot;Marshalltown&quot;</td><td>1922</td><td>4</td><td>14</td><td>&quot;USA&quot;</td><td>&quot;IL&quot;</td><td>&quot;Chicago&quot;</td><td>&quot;Cap&quot;</td><td>&quot;Anson&quot;</td><td>&quot;Adrian Constantine&quot;</td><td>227</td><td>72</td><td>&quot;R&quot;</td><td>&quot;R&quot;</td><td>&quot;1871-05-06&quot;</td><td>&quot;1897-10-03&quot;</td><td>&quot;ansoc101&quot;</td><td>&quot;ansonca01&quot;</td><td>&quot;1922-04-14&quot;</td><td>&quot;1852-04-17&quot;</td></tr><tr><td>&hellip;</td><td>&hellip;</td><td>&hellip;</td><td>&hellip;</td><td>&hellip;</td><td>&hellip;</td><td>&hellip;</td><td>&hellip;</td><td>&hellip;</td><td>&hellip;</td><td>&hellip;</td><td>&hellip;</td><td>&hellip;</td><td>&hellip;</td><td>&hellip;</td><td>&hellip;</td><td>&hellip;</td><td>&hellip;</td><td>&hellip;</td><td>&hellip;</td><td>&hellip;</td><td>&hellip;</td><td>&hellip;</td><td>&hellip;</td><td>&hellip;</td><td>&hellip;</td><td>&hellip;</td><td>&hellip;</td><td>&hellip;</td><td>&hellip;</td><td>&hellip;</td><td>&hellip;</td><td>&hellip;</td><td>&hellip;</td><td>&hellip;</td><td>&hellip;</td><td>&hellip;</td><td>&hellip;</td><td>&hellip;</td><td>&hellip;</td><td>&hellip;</td><td>&hellip;</td><td>&hellip;</td><td>&hellip;</td><td>&hellip;</td><td>&hellip;</td><td>&hellip;</td></tr><tr><td>&quot;zimmebr01&quot;</td><td>2022</td><td>1</td><td>&quot;TOR&quot;</td><td>&quot;AL&quot;</td><td>77</td><td>76</td><td>11</td><td>8</td><td>4</td><td>0</td><td>2</td><td>3</td><td>2</td><td>1</td><td>5</td><td>33</td><td>&quot;0&quot;</td><td>&quot;5&quot;</td><td>&quot;1&quot;</td><td>&quot;0&quot;</td><td>0</td><td>1992</td><td>11</td><td>27</td><td>&quot;USA&quot;</td><td>&quot;CA&quot;</td><td>&quot;San Francisco&quot;</td><td>null</td><td>null</td><td>null</td><td>null</td><td>null</td><td>null</td><td>&quot;Bradley&quot;</td><td>&quot;Zimmer&quot;</td><td>&quot;Bradley Clarke&quot;</td><td>185</td><td>76</td><td>&quot;L&quot;</td><td>&quot;R&quot;</td><td>&quot;2017-05-16&quot;</td><td>&quot;2022-10-05&quot;</td><td>&quot;zimmb001&quot;</td><td>&quot;zimmebr01&quot;</td><td>null</td><td>&quot;1992-11-27&quot;</td></tr><tr><td>&quot;zimmebr01&quot;</td><td>2022</td><td>2</td><td>&quot;PHI&quot;</td><td>&quot;NL&quot;</td><td>9</td><td>16</td><td>4</td><td>4</td><td>1</td><td>0</td><td>0</td><td>0</td><td>0</td><td>0</td><td>0</td><td>4</td><td>&quot;0&quot;</td><td>&quot;0&quot;</td><td>&quot;0&quot;</td><td>&quot;0&quot;</td><td>0</td><td>1992</td><td>11</td><td>27</td><td>&quot;USA&quot;</td><td>&quot;CA&quot;</td><td>&quot;San Francisco&quot;</td><td>null</td><td>null</td><td>null</td><td>null</td><td>null</td><td>null</td><td>&quot;Bradley&quot;</td><td>&quot;Zimmer&quot;</td><td>&quot;Bradley Clarke&quot;</td><td>185</td><td>76</td><td>&quot;L&quot;</td><td>&quot;R&quot;</td><td>&quot;2017-05-16&quot;</td><td>&quot;2022-10-05&quot;</td><td>&quot;zimmb001&quot;</td><td>&quot;zimmebr01&quot;</td><td>null</td><td>&quot;1992-11-27&quot;</td></tr><tr><td>&quot;zimmebr01&quot;</td><td>2022</td><td>3</td><td>&quot;TOR&quot;</td><td>&quot;AL&quot;</td><td>23</td><td>13</td><td>3</td><td>1</td><td>0</td><td>0</td><td>0</td><td>2</td><td>1</td><td>1</td><td>0</td><td>8</td><td>&quot;0&quot;</td><td>&quot;1&quot;</td><td>&quot;0&quot;</td><td>&quot;0&quot;</td><td>0</td><td>1992</td><td>11</td><td>27</td><td>&quot;USA&quot;</td><td>&quot;CA&quot;</td><td>&quot;San Francisco&quot;</td><td>null</td><td>null</td><td>null</td><td>null</td><td>null</td><td>null</td><td>&quot;Bradley&quot;</td><td>&quot;Zimmer&quot;</td><td>&quot;Bradley Clarke&quot;</td><td>185</td><td>76</td><td>&quot;L&quot;</td><td>&quot;R&quot;</td><td>&quot;2017-05-16&quot;</td><td>&quot;2022-10-05&quot;</td><td>&quot;zimmb001&quot;</td><td>&quot;zimmebr01&quot;</td><td>null</td><td>&quot;1992-11-27&quot;</td></tr><tr><td>&quot;zimmebr02&quot;</td><td>2022</td><td>1</td><td>&quot;BAL&quot;</td><td>&quot;AL&quot;</td><td>15</td><td>0</td><td>0</td><td>0</td><td>0</td><td>0</td><td>0</td><td>0</td><td>0</td><td>0</td><td>0</td><td>0</td><td>&quot;0&quot;</td><td>&quot;0&quot;</td><td>&quot;0&quot;</td><td>&quot;0&quot;</td><td>0</td><td>1995</td><td>2</td><td>9</td><td>&quot;USA&quot;</td><td>&quot;MD&quot;</td><td>&quot;Baltimore&quot;</td><td>null</td><td>null</td><td>null</td><td>null</td><td>null</td><td>null</td><td>&quot;Bruce&quot;</td><td>&quot;Zimmermann&quot;</td><td>&quot;Bruce Anthony&quot;</td><td>215</td><td>73</td><td>&quot;L&quot;</td><td>&quot;L&quot;</td><td>&quot;2020-09-17&quot;</td><td>&quot;2022-09-05&quot;</td><td>&quot;zimmb002&quot;</td><td>&quot;zimmebr02&quot;</td><td>null</td><td>&quot;1995-02-09&quot;</td></tr><tr><td>&quot;zuninmi01&quot;</td><td>2022</td><td>1</td><td>&quot;TBA&quot;</td><td>&quot;AL&quot;</td><td>36</td><td>115</td><td>7</td><td>17</td><td>3</td><td>0</td><td>5</td><td>16</td><td>0</td><td>0</td><td>6</td><td>46</td><td>&quot;0&quot;</td><td>&quot;1&quot;</td><td>&quot;0&quot;</td><td>&quot;1&quot;</td><td>2</td><td>1991</td><td>3</td><td>25</td><td>&quot;USA&quot;</td><td>&quot;FL&quot;</td><td>&quot;Cape Coral&quot;</td><td>null</td><td>null</td><td>null</td><td>null</td><td>null</td><td>null</td><td>&quot;Mike&quot;</td><td>&quot;Zunino&quot;</td><td>&quot;Michael Accorsi&quot;</td><td>235</td><td>74</td><td>&quot;R&quot;</td><td>&quot;R&quot;</td><td>&quot;2013-06-12&quot;</td><td>&quot;2022-06-09&quot;</td><td>&quot;zunim001&quot;</td><td>&quot;zuninmi01&quot;</td><td>null</td><td>&quot;1991-03-25&quot;</td></tr></tbody></table></div>"
            ]
          },
          "metadata": {},
          "execution_count": 6
        }
      ]
    },
    {
      "cell_type": "code",
      "source": [
        "#Question2B\n",
        "florida_hr = stats_w_bio.filter((pl.col('birthState') == 'FL') & (pl.col('HR') > 0))\n",
        "florida_hr = florida_hr.select(pl.col('HR').sum().alias('total_hr'))\n",
        "florida_hr"
      ],
      "metadata": {
        "colab": {
          "base_uri": "https://localhost:8080/",
          "height": 129
        },
        "id": "NqES1kfh4l1F",
        "outputId": "f68ed7c3-06c7-482a-9413-b3c8494691a8"
      },
      "execution_count": 7,
      "outputs": [
        {
          "output_type": "execute_result",
          "data": {
            "text/plain": [
              "shape: (1, 1)\n",
              "┌──────────┐\n",
              "│ total_hr │\n",
              "│ ---      │\n",
              "│ i64      │\n",
              "╞══════════╡\n",
              "│ 16225    │\n",
              "└──────────┘"
            ],
            "text/html": [
              "<div><style>\n",
              ".dataframe > thead > tr,\n",
              ".dataframe > tbody > tr {\n",
              "  text-align: right;\n",
              "  white-space: pre-wrap;\n",
              "}\n",
              "</style>\n",
              "<small>shape: (1, 1)</small><table border=\"1\" class=\"dataframe\"><thead><tr><th>total_hr</th></tr><tr><td>i64</td></tr></thead><tbody><tr><td>16225</td></tr></tbody></table></div>"
            ]
          },
          "metadata": {},
          "execution_count": 7
        }
      ]
    },
    {
      "cell_type": "code",
      "source": [
        "#Question3A\n",
        "hall_inducted = hallOfFame.filter((pl.col('inducted') == 'Y') & (pl.col('category') == 'Player'))\n",
        "hall_inducted.unique(subset='playerID')"
      ],
      "metadata": {
        "colab": {
          "base_uri": "https://localhost:8080/",
          "height": 443
        },
        "id": "3inRAcLi4p7V",
        "outputId": "5388ad45-a135-4068-98db-39fccbe394ba"
      },
      "execution_count": 8,
      "outputs": [
        {
          "output_type": "execute_result",
          "data": {
            "text/plain": [
              "shape: (270, 9)\n",
              "┌───────────┬────────┬──────────────┬─────────┬───┬───────┬──────────┬──────────┬─────────────┐\n",
              "│ playerID  ┆ yearID ┆ votedBy      ┆ ballots ┆ … ┆ votes ┆ inducted ┆ category ┆ needed_note │\n",
              "│ ---       ┆ ---    ┆ ---          ┆ ---     ┆   ┆ ---   ┆ ---      ┆ ---      ┆ ---         │\n",
              "│ str       ┆ i64    ┆ str          ┆ i64     ┆   ┆ i64   ┆ str      ┆ str      ┆ str         │\n",
              "╞═══════════╪════════╪══════════════╪═════════╪═══╪═══════╪══════════╪══════════╪═════════════╡\n",
              "│ orourji01 ┆ 1945   ┆ Old Timers   ┆ null    ┆ … ┆ null  ┆ Y        ┆ Player   ┆ null        │\n",
              "│ mcphebi01 ┆ 2000   ┆ Veterans     ┆ null    ┆ … ┆ null  ┆ Y        ┆ Player   ┆ null        │\n",
              "│ santolo99 ┆ 2006   ┆ Negro League ┆ null    ┆ … ┆ null  ┆ Y        ┆ Player   ┆ null        │\n",
              "│ riceji01  ┆ 2009   ┆ BBWAA        ┆ 539     ┆ … ┆ 412   ┆ Y        ┆ Player   ┆ null        │\n",
              "│ matheed01 ┆ 1978   ┆ BBWAA        ┆ 379     ┆ … ┆ 301   ┆ Y        ┆ Player   ┆ null        │\n",
              "│ …         ┆ …      ┆ …            ┆ …       ┆ … ┆ …     ┆ …        ┆ …        ┆ …           │\n",
              "│ ruthba01  ┆ 1936   ┆ BBWAA        ┆ 226     ┆ … ┆ 215   ┆ Y        ┆ Player   ┆ null        │\n",
              "│ palmeji01 ┆ 1990   ┆ BBWAA        ┆ 444     ┆ … ┆ 411   ┆ Y        ┆ Player   ┆ null        │\n",
              "│ benchjo01 ┆ 1989   ┆ BBWAA        ┆ 447     ┆ … ┆ 431   ┆ Y        ┆ Player   ┆ null        │\n",
              "│ lemonbo01 ┆ 1976   ┆ BBWAA        ┆ 388     ┆ … ┆ 305   ┆ Y        ┆ Player   ┆ null        │\n",
              "│ hallaro01 ┆ 2019   ┆ BBWAA        ┆ 425     ┆ … ┆ 363   ┆ Y        ┆ Player   ┆ null        │\n",
              "└───────────┴────────┴──────────────┴─────────┴───┴───────┴──────────┴──────────┴─────────────┘"
            ],
            "text/html": [
              "<div><style>\n",
              ".dataframe > thead > tr,\n",
              ".dataframe > tbody > tr {\n",
              "  text-align: right;\n",
              "  white-space: pre-wrap;\n",
              "}\n",
              "</style>\n",
              "<small>shape: (270, 9)</small><table border=\"1\" class=\"dataframe\"><thead><tr><th>playerID</th><th>yearID</th><th>votedBy</th><th>ballots</th><th>needed</th><th>votes</th><th>inducted</th><th>category</th><th>needed_note</th></tr><tr><td>str</td><td>i64</td><td>str</td><td>i64</td><td>i64</td><td>i64</td><td>str</td><td>str</td><td>str</td></tr></thead><tbody><tr><td>&quot;orourji01&quot;</td><td>1945</td><td>&quot;Old Timers&quot;</td><td>null</td><td>null</td><td>null</td><td>&quot;Y&quot;</td><td>&quot;Player&quot;</td><td>null</td></tr><tr><td>&quot;mcphebi01&quot;</td><td>2000</td><td>&quot;Veterans&quot;</td><td>null</td><td>null</td><td>null</td><td>&quot;Y&quot;</td><td>&quot;Player&quot;</td><td>null</td></tr><tr><td>&quot;santolo99&quot;</td><td>2006</td><td>&quot;Negro League&quot;</td><td>null</td><td>null</td><td>null</td><td>&quot;Y&quot;</td><td>&quot;Player&quot;</td><td>null</td></tr><tr><td>&quot;riceji01&quot;</td><td>2009</td><td>&quot;BBWAA&quot;</td><td>539</td><td>405</td><td>412</td><td>&quot;Y&quot;</td><td>&quot;Player&quot;</td><td>null</td></tr><tr><td>&quot;matheed01&quot;</td><td>1978</td><td>&quot;BBWAA&quot;</td><td>379</td><td>285</td><td>301</td><td>&quot;Y&quot;</td><td>&quot;Player&quot;</td><td>null</td></tr><tr><td>&hellip;</td><td>&hellip;</td><td>&hellip;</td><td>&hellip;</td><td>&hellip;</td><td>&hellip;</td><td>&hellip;</td><td>&hellip;</td><td>&hellip;</td></tr><tr><td>&quot;ruthba01&quot;</td><td>1936</td><td>&quot;BBWAA&quot;</td><td>226</td><td>170</td><td>215</td><td>&quot;Y&quot;</td><td>&quot;Player&quot;</td><td>null</td></tr><tr><td>&quot;palmeji01&quot;</td><td>1990</td><td>&quot;BBWAA&quot;</td><td>444</td><td>333</td><td>411</td><td>&quot;Y&quot;</td><td>&quot;Player&quot;</td><td>null</td></tr><tr><td>&quot;benchjo01&quot;</td><td>1989</td><td>&quot;BBWAA&quot;</td><td>447</td><td>336</td><td>431</td><td>&quot;Y&quot;</td><td>&quot;Player&quot;</td><td>null</td></tr><tr><td>&quot;lemonbo01&quot;</td><td>1976</td><td>&quot;BBWAA&quot;</td><td>388</td><td>291</td><td>305</td><td>&quot;Y&quot;</td><td>&quot;Player&quot;</td><td>null</td></tr><tr><td>&quot;hallaro01&quot;</td><td>2019</td><td>&quot;BBWAA&quot;</td><td>425</td><td>319</td><td>363</td><td>&quot;Y&quot;</td><td>&quot;Player&quot;</td><td>null</td></tr></tbody></table></div>"
            ]
          },
          "metadata": {},
          "execution_count": 8
        }
      ]
    },
    {
      "cell_type": "code",
      "source": [
        "#Question3B\n",
        "hof_hits = (\n",
        "    batting\n",
        "    .join(hall_inducted, on=\"playerID\", how=\"left\")\n",
        "    .group_by('playerID')\n",
        "    .agg([\n",
        "        pl.col('H').mean().alias('average_hits')\n",
        "    ])\n",
        "    )\n",
        "hof_hits.sort('average_hits', descending=False)"
      ],
      "metadata": {
        "colab": {
          "base_uri": "https://localhost:8080/",
          "height": 443
        },
        "id": "YNPeoFTv4rzo",
        "outputId": "6ff997d7-0cc5-4467-f1f3-e78c20530aba"
      },
      "execution_count": 9,
      "outputs": [
        {
          "output_type": "execute_result",
          "data": {
            "text/plain": [
              "shape: (20_469, 2)\n",
              "┌───────────┬──────────────┐\n",
              "│ playerID  ┆ average_hits │\n",
              "│ ---       ┆ ---          │\n",
              "│ str       ┆ f64          │\n",
              "╞═══════════╪══════════════╡\n",
              "│ mcnicbr01 ┆ 0.0          │\n",
              "│ banniji01 ┆ 0.0          │\n",
              "│ richmbe01 ┆ 0.0          │\n",
              "│ povsema01 ┆ 0.0          │\n",
              "│ walkety01 ┆ 0.0          │\n",
              "│ …         ┆ …            │\n",
              "│ jeterde01 ┆ 173.25       │\n",
              "│ cobbty01  ┆ 174.541667   │\n",
              "│ sislege01 ┆ 175.75       │\n",
              "│ burkeje01 ┆ 178.125      │\n",
              "│ puckeki01 ┆ 192.0        │\n",
              "└───────────┴──────────────┘"
            ],
            "text/html": [
              "<div><style>\n",
              ".dataframe > thead > tr,\n",
              ".dataframe > tbody > tr {\n",
              "  text-align: right;\n",
              "  white-space: pre-wrap;\n",
              "}\n",
              "</style>\n",
              "<small>shape: (20_469, 2)</small><table border=\"1\" class=\"dataframe\"><thead><tr><th>playerID</th><th>average_hits</th></tr><tr><td>str</td><td>f64</td></tr></thead><tbody><tr><td>&quot;mcnicbr01&quot;</td><td>0.0</td></tr><tr><td>&quot;banniji01&quot;</td><td>0.0</td></tr><tr><td>&quot;richmbe01&quot;</td><td>0.0</td></tr><tr><td>&quot;povsema01&quot;</td><td>0.0</td></tr><tr><td>&quot;walkety01&quot;</td><td>0.0</td></tr><tr><td>&hellip;</td><td>&hellip;</td></tr><tr><td>&quot;jeterde01&quot;</td><td>173.25</td></tr><tr><td>&quot;cobbty01&quot;</td><td>174.541667</td></tr><tr><td>&quot;sislege01&quot;</td><td>175.75</td></tr><tr><td>&quot;burkeje01&quot;</td><td>178.125</td></tr><tr><td>&quot;puckeki01&quot;</td><td>192.0</td></tr></tbody></table></div>"
            ]
          },
          "metadata": {},
          "execution_count": 9
        }
      ]
    }
  ]
}